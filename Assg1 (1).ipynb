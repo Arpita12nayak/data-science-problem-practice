{
 "cells": [
  {
   "cell_type": "code",
   "execution_count": 5,
   "id": "a12136cd-a5aa-4e10-8e55-a15c58ce839c",
   "metadata": {},
   "outputs": [],
   "source": [
    "flavour = \"chocolate\"\n",
    "if flavour == \"vanilla\":\n",
    "    print(\"I like vanilla!\")"
   ]
  },
  {
   "cell_type": "code",
   "execution_count": 6,
   "id": "5a6fd731-26a4-45dc-851e-2946383d24e6",
   "metadata": {},
   "outputs": [
    {
     "name": "stdout",
     "output_type": "stream",
     "text": [
      "More than one scoop\n"
     ]
    }
   ],
   "source": [
    "scoop = 2\n",
    "if scoop == 1:\n",
    "    print(\"One scoop\")\n",
    "else:\n",
    "    print(\"More than one scoop\")\n"
   ]
  },
  {
   "cell_type": "code",
   "execution_count": null,
   "id": "379304c9-1fea-44a9-91aa-472c648fba0c",
   "metadata": {},
   "outputs": [],
   "source": [
    "order_size = input(\"Enter order size (small/other): \").strip().lower()\n",
    "if order_size == \"small\":\n",
    "    price = 3.00\n",
    "else:\n",
    "    price = 5.00\n",
    "print(f\"The price is ${price:.2f}\")"
   ]
  },
  {
   "cell_type": "code",
   "execution_count": null,
   "id": "3d504a17-71a8-423c-897b-a7574617f852",
   "metadata": {},
   "outputs": [],
   "source": [
    "is_vegan = True  \n",
    "if is_vegan:\n",
    "    print(\"Show them the vegan options.\")"
   ]
  },
  {
   "cell_type": "code",
   "execution_count": null,
   "id": "f54e1353-ef5b-4bd1-9c33-e047093ceb0d",
   "metadata": {},
   "outputs": [],
   "source": [
    "new_flavor = \"mint\"  \n",
    "if new_flavor == \"mint\" or new_flavor == \"strawberry\":\n",
    "    print(\"That's a popular choice!\")"
   ]
  },
  {
   "cell_type": "code",
   "execution_count": null,
   "id": "0b7e1ac7-74fc-4158-937e-72adce3cbb2f",
   "metadata": {},
   "outputs": [],
   "source": [
    "current_hour = 15 \n",
    "\n",
    "# Check if shop is open\n",
    "if 10 <= current_hour <= 22:\n",
    "    print(\"The shop is open!\")\n",
    "else:\n",
    "    print(\"The shop is closed.\")"
   ]
  },
  {
   "cell_type": "code",
   "execution_count": 1,
   "id": "07fd5473-e232-4e53-a80a-1bb551f9a30e",
   "metadata": {},
   "outputs": [
    {
     "name": "stdout",
     "output_type": "stream",
     "text": [
      "You get a free topping!\n"
     ]
    }
   ],
   "source": [
    "age = 12 \n",
    "\n",
    "# Check if eligible for free topping\n",
    "if age <= 12:\n",
    "    print(\"You get a free topping!\")\n",
    "else:\n",
    "    print(\"No free topping.\")"
   ]
  },
  {
   "cell_type": "code",
   "execution_count": null,
   "id": "ad9e4013-ad26-47c3-bbf8-11ea2f52251f",
   "metadata": {},
   "outputs": [],
   "source": [
    "ice_cream_price = 4.00\n",
    "choice = \"cone\"\n",
    "\n",
    "if choice == \"cone\":\n",
    "    ice_cream_price += 0.50\n",
    "\n",
    "print(\"Total cost:\", ice_cream_price)"
   ]
  },
  {
   "cell_type": "code",
   "execution_count": null,
   "id": "fdf3a7e9-d9aa-4a49-9c82-ff8b0a835630",
   "metadata": {},
   "outputs": [],
   "source": [
    "day_of_week = \"Monday\"\n",
    "\n",
    "if day_of_week == \"Monday\":\n",
    "    print(\"You get a 10% discount!\")\n",
    "    "
   ]
  },
  {
   "cell_type": "code",
   "execution_count": null,
   "id": "9c136047-7193-4a99-9f23-66599c4af240",
   "metadata": {},
   "outputs": [],
   "source": [
    "has_loyalty_card = True\n",
    "\n",
    "if has_loyalty_card:\n",
    "    print(\"Thank you for being a loyal customer!\")"
   ]
  },
  {
   "cell_type": "code",
   "execution_count": null,
   "id": "37367171-39ec-461a-8d90-785916dd1838",
   "metadata": {},
   "outputs": [],
   "source": [
    "topping = \"chocolate\"\n",
    "\n",
    "if topping != \"sprinkles\":\n",
    "    print(\"We'll add a different topping.\")\n",
    "    "
   ]
  },
  {
   "cell_type": "code",
   "execution_count": null,
   "id": "262873ca-6a6a-40d5-9dc3-c68f43366124",
   "metadata": {},
   "outputs": [],
   "source": [
    "available_flavors = [\"vanilla\", \"chocolate\", \"strawberry\", \"mint\"]\n",
    "flavor = input(\"Enter the flavor you want: \").lower()\n",
    "if flavor in available_flavors:\n",
    "    print(f\"Great choice! {flavor.capitalize()} is available.\")\n",
    "else:\n",
    "    print(\"Sorry, that flavor is unavailable.\")"
   ]
  },
  {
   "cell_type": "code",
   "execution_count": null,
   "id": "79ce1fa3-7a1e-4615-89a5-ff4a5d25b6c4",
   "metadata": {},
   "outputs": [],
   "source": [
    "total_price = float(input(\"Enter the total price: \"))\n",
    "\n",
    "    print(\"Exact amount needed.\")\n",
    "else:\n",
    "    print(\"The amount is not exact.\")"
   ]
  },
  {
   "cell_type": "code",
   "execution_count": null,
   "id": "39e8b939-4099-47c8-9f87-041da7849e4a",
   "metadata": {},
   "outputs": [],
   "source": [
    "Intermediate Problems:Nested and Combined Logic"
   ]
  },
  {
   "cell_type": "code",
   "execution_count": null,
   "id": "eec4f9bc-7b54-41f6-9b49-f7e33002139b",
   "metadata": {},
   "outputs": [],
   "source": [
    "size = \"large\"\n",
    "flavor = \"chocolate\"\n",
    "\n",
    "# Using nested if\n",
    "if size == \"large\":\n",
    "    if flavor == \"chocolate\":\n",
    "        print(\"Large chocolate cone coming up!\")\n",
    "    else:\n",
    "        print(\"Sorry, we only have large in chocolate.\")"
   ]
  },
  {
   "cell_type": "code",
   "execution_count": null,
   "id": "e56d0359-cd9c-419e-88c3-6694620483e8",
   "metadata": {},
   "outputs": [],
   "source": [
    "order_total = float(input(\"Enter your order total: \"))\n",
    "age = int(input(\"Enter your age: \"))\n",
    "\n",
    "if order_total > 10.00 or age >= 65:\n",
    "    print(\"Discount applied.\")\n",
    "else:\n",
    "    print(\"No discount available.\")"
   ]
  },
  {
   "cell_type": "code",
   "execution_count": null,
   "id": "d25923b2-8cce-4bf1-b190-a2b3782d0fbe",
   "metadata": {},
   "outputs": [],
   "source": [
    "scoops = int(input(\"Enter number of scoops: \"))\n",
    "flavor = input(\"Enter flavor: \").lower()\n",
    "\n",
    "# Check for special offer\n",
    "if scoops == 2:\n",
    "    if flavor == \"vanilla\":\n",
    "        print(\"Special offer for you!\")\n",
    "    else:\n",
    "        print(\"No special offer available.\")\n",
    "else:\n",
    "    print(\"No special offer available.\")"
   ]
  },
  {
   "cell_type": "code",
   "execution_count": null,
   "id": "e2963e4d-c2b8-4a5d-b216-074eeeb7f384",
   "metadata": {},
   "outputs": [],
   "source": [
    "scoops = 2\n",
    "has_coupon = True\n",
    "\n",
    "# Check coupon eligibility\n",
    "if scoops >= 2 and has_coupon:\n",
    "    print(\"Free topping added.\")\n",
    "else:\n",
    "    print(\"No free topping.\""
   ]
  },
  {
   "cell_type": "code",
   "execution_count": null,
   "id": "ede3e563-23f5-4051-9875-bc79c24b5869",
   "metadata": {},
   "outputs": [],
   "source": [
    "size = \"medium\"\n",
    "scoops = 3\n",
    "flavor = \"vanilla\"\n",
    "\n",
    "# Check custom order condition\n",
    "if size == \"medium\" and scoops == 3 and flavor != \"strawberry\":\n",
    "    print(\"This is a custom order!\")\n",
    "else:\n",
    "    print(\"Regular order.\")"
   ]
  },
  {
   "cell_type": "code",
   "execution_count": null,
   "id": "8b1310c4-80f2-4575-b274-8de01101f4a8",
   "metadata": {},
   "outputs": [],
   "source": [
    "temperature = float(input(\"Enter the temperature (°C): \"))\n",
    "time_of_day = int(input(\"Enter the time of day (24-hour format, e.g., 16 for 4 PM): \"))\n",
    "\n",
    "if temperature > 25 and time_of_day > 15:\n",
    "    print(\"It's a hot afternoon, time for a rush!\")\n",
    "else:\n",
    "    print(\"Normal sales expected.\")"
   ]
  },
  {
   "cell_type": "code",
   "execution_count": null,
   "id": "3436c72c-b63a-4da7-9394-32f8300c91f2",
   "metadata": {},
   "outputs": [],
   "source": [
    "# Customer details\n",
    "is_vip = True\n",
    "is_senior = True\n",
    "\n",
    "# Check VIP program rules\n",
    "if is_vip and is_senior:\n",
    "    print(\"You get a free topping and a free scoop!\")\n",
    "elif is_vip:\n",
    "    print(\"You get a free topping!\")\n",
    "else:\n",
    "    print(\"No VIP rewards.\")"
   ]
  }
 ],
 "metadata": {
  "kernelspec": {
   "display_name": "anaconda-2024.02-py310",
   "language": "python",
   "name": "conda-env-anaconda-2024.02-py310-py"
  },
  "language_info": {
   "codemirror_mode": {
    "name": "ipython",
    "version": 3
   },
   "file_extension": ".py",
   "mimetype": "text/x-python",
   "name": "python",
   "nbconvert_exporter": "python",
   "pygments_lexer": "ipython3",
   "version": "3.10.14"
  }
 },
 "nbformat": 4,
 "nbformat_minor": 5
}
